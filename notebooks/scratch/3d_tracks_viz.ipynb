{
 "cells": [
  {
   "cell_type": "code",
   "execution_count": 1,
   "metadata": {},
   "outputs": [
    {
     "name": "stderr",
     "output_type": "stream",
     "text": [
      "Loading RGBs: 100%|█████████████████████████████████████████████| 849/849 [00:02<00:00, 410.82it/s]\n",
      "Loading Depths: 100%|███████████████████████████████████████████| 849/849 [00:03<00:00, 244.49it/s]\n",
      "Computing 2D displacement: 100%|████████████████████████████████| 849/849 [00:05<00:00, 154.32it/s]\n",
      "plotting tracks: 100%|███████████████████████████████████████████| 849/849 [07:00<00:00,  2.02it/s]\n"
     ]
    },
    {
     "ename": "",
     "evalue": "",
     "output_type": "error",
     "traceback": [
      "\u001b[1;31mThe Kernel crashed while executing code in the current cell or a previous cell. \n",
      "\u001b[1;31mPlease review the code in the cell(s) to identify a possible cause of the failure. \n",
      "\u001b[1;31mClick <a href='https://aka.ms/vscodeJupyterKernelCrash'>here</a> for more info. \n",
      "\u001b[1;31mView Jupyter <a href='command:jupyter.viewOutput'>log</a> for further details."
     ]
    },
    {
     "ename": "",
     "evalue": "",
     "output_type": "error",
     "traceback": [
      "\u001b[1;31mCanceled future for execute_request message before replies were done"
     ]
    },
    {
     "ename": "",
     "evalue": "",
     "output_type": "error",
     "traceback": [
      "\u001b[1;31mCanceled future for execute_request message before replies were done. \n",
      "\u001b[1;31mView Jupyter <a href='command:jupyter.viewOutput'>log</a> for further details."
     ]
    }
   ],
   "source": [
    "import numpy as np\n",
    "import cv2\n",
    "import os\n",
    "from glob import glob\n",
    "from tqdm import tqdm\n",
    "from stereo4d_code.utils import CameraAZ, Track3d\n",
    "from stereo4d_code.track_optimization import save_3d_track_vis  # Ensure these functions are imported\n",
    "\n",
    "# --- Step 1: Load annotation data ---\n",
    "anno_path = \"data/pointodyssey/sample/r4_new_f/anno.npz\"\n",
    "data = np.load(anno_path)\n",
    "# Original shapes:\n",
    "#   trajs_3d: (849, 11721, 3)   --> frames x points x 3\n",
    "#   valids:  (849, 11721)       --> frames x points\n",
    "#   intrinsics: (849, 3, 3)\n",
    "#   extrinsics: (849, 4, 4)\n",
    "\n",
    "# Transpose trajectories and visibility arrays so that the shape becomes (points, frames, ...)\n",
    "trajs_3d = data['trajs_3d'].transpose(1, 0, 2)   # now (11721, 849, 3)\n",
    "valids = data['valids'].transpose(1, 0)           # now (11721, 849)\n",
    "# (You can similarly transpose 'visibs' if you prefer to use that.)\n",
    "\n",
    "# --- Step 2: Load RGB images ---\n",
    "rgb_files = sorted(glob(\"data/pointodyssey/sample/r4_new_f/rgbs/*.jpg\"))\n",
    "rgbs = np.array([cv2.imread(f)[:, :, ::-1] for f in tqdm(rgb_files, desc=\"Loading RGBs\")],\n",
    "                dtype=np.uint8)  # Convert BGR to RGB\n",
    "\n",
    "# --- Step 3: Load Depth Maps ---\n",
    "depth_files = sorted(glob(\"data/pointodyssey/sample/r4_new_f/depths/*.png\"))\n",
    "depths = np.array([cv2.imread(f, cv2.IMREAD_UNCHANGED) for f in tqdm(depth_files, desc=\"Loading Depths\")],\n",
    "                  dtype=np.float32)\n",
    "# If your depth images are stored in millimeters, convert them to meters (or adjust as needed):\n",
    "depths = depths / 1000.0\n",
    "\n",
    "# Get image dimensions (assuming all images share the same dimensions)\n",
    "imh, imw, _ = rgbs[0].shape\n",
    "\n",
    "# --- Step 4: Create CameraAZ objects ---\n",
    "# intrinsics and extrinsics are per-frame (849 frames)\n",
    "intrinsics = data['intrinsics']  # (849, 3, 3)\n",
    "extrinsics = data['extrinsics']  # (849, 4, 4)\n",
    "cameras = []\n",
    "for i in range(intrinsics.shape[0]):\n",
    "    intr = intrinsics[i]\n",
    "    extr = extrinsics[i]\n",
    "    # Normalize intrinsics by image size\n",
    "    intr_normalized = {\n",
    "        'fx': intr[0, 0] / imw,\n",
    "        'fy': intr[1, 1] / imh,\n",
    "        'cx': intr[0, 2] / imw,\n",
    "        'cy': intr[1, 2] / imh,\n",
    "        'k1': 0,\n",
    "        'k2': 0,\n",
    "    }\n",
    "    # Create a CameraAZ instance (using the first 3 rows of extrinsics)\n",
    "    cameras.append(CameraAZ(from_json={'extr': extr[:3], 'intr_normalized': intr_normalized}))\n",
    "\n",
    "# --- Step 5: Create a Track3d object ---\n",
    "# Here we pass the transposed 3D trajectories and corresponding visibility mask.\n",
    "# The Track3d constructor will use:\n",
    "#  - track3d.track3d: shape (num_points, num_frames, 3)  --> (11721, 849, 3)\n",
    "#  - track3d.visible_list: shape (num_points, num_frames)   --> (11721, 849)\n",
    "track3d = Track3d(\n",
    "    tracks=None,          # Not needed since we pass track3d explicitly\n",
    "    visibles=valids,      # 11721 x 849 visibility mask\n",
    "    depths=depths,        # (849, imh, imw) depth maps for each frame\n",
    "    cameras=cameras,      # List of 849 CameraAZ objects\n",
    "    video=rgbs,           # (849, imh, imw, 3) RGB video frames\n",
    "    track3d=trajs_3d,     # (11721, 849, 3) 3D point trajectories\n",
    "    visible_list=valids,  # Use the same mask (or use 'visibs' if you prefer)\n",
    ")\n",
    "\n",
    "# --- Step 6: Call save_3d_track_vis ---\n",
    "save_root = \"data/pointodyssey/sample/r4_new_f/output\"\n",
    "vid = \"r4_new_f\"\n",
    "prefix = \"test\"\n",
    "os.makedirs(os.path.join(save_root, vid), exist_ok=True)\n",
    "\n",
    "# This function will generate 3D track visualizations (and 2D if applicable)\n",
    "save_3d_track_vis(track3d, rgbs, depths, save_root, vid, prefix)"
   ]
  },
  {
   "cell_type": "code",
   "execution_count": 8,
   "metadata": {},
   "outputs": [
    {
     "name": "stdout",
     "output_type": "stream",
     "text": [
      "/Users/kevin/Desktop/Kevin/projects/recon-2\n",
      "mv: rename stereo4d-code to stereo4d_code/stereo4d-code: No such file or directory\n",
      "total 1104\n",
      "drwxr-xr-x  15 kevin  staff     480 Feb  2 23:59 \u001b[34mutils\u001b[m\u001b[m\n",
      "drwxr-xr-x   4 kevin  staff     128 Feb  3 00:52 \u001b[34mtmp\u001b[m\u001b[m\n",
      "drwxr-xr-x   2 kevin  staff      64 Feb  4 22:27 \u001b[34mmodels\u001b[m\u001b[m\n",
      "drwxr-xr-x   3 kevin  staff      96 Feb  5 00:07 \u001b[34mnotebooks\u001b[m\u001b[m\n",
      "drwxr-xr-x  22 kevin  staff     704 Feb 13 21:32 \u001b[34mdatasets\u001b[m\u001b[m\n",
      "drwxr-xr-x   5 kevin  staff     160 Mar  1 15:15 \u001b[34mdatasets_preprocess\u001b[m\u001b[m\n",
      "drwxr-xr-x   9 kevin  staff     288 Mar  1 15:19 \u001b[34mdata\u001b[m\u001b[m\n",
      "drwxr-xr-x  17 kevin  staff     544 Mar  3 14:37 \u001b[34mstereo4d_code\u001b[m\u001b[m\n",
      "-rw-r--r--   1 kevin  staff     876 Mar  3 14:45 pyproject.toml\n",
      "-rw-r--r--   1 kevin  staff  559344 Mar  3 14:45 poetry.lock\n"
     ]
    }
   ],
   "source": [
    "!pwd\n",
    "!mv stereo4d-code stereo4d_code\n",
    "!ls -lrt"
   ]
  },
  {
   "cell_type": "code",
   "execution_count": null,
   "metadata": {},
   "outputs": [],
   "source": []
  }
 ],
 "metadata": {
  "kernelspec": {
   "display_name": "Python 3 (ipykernel)",
   "language": "python",
   "name": "python3"
  }
 },
 "nbformat": 4,
 "nbformat_minor": 2
}
