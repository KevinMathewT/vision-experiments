{
 "cells": [
  {
   "cell_type": "code",
   "execution_count": 1,
   "metadata": {},
   "outputs": [
    {
     "name": "stderr",
     "output_type": "stream",
     "text": [
      "[2025-03-09T00:10:50Z INFO  re_sdk::spawn] A process is already listening at this address. Assuming it's a Rerun Viewer. addr=0.0.0.0:9876\n"
     ]
    }
   ],
   "source": [
    "\"\"\"Log a pinhole and a random image.\"\"\"\n",
    "\n",
    "import numpy as np\n",
    "import rerun as rr\n",
    "\n",
    "rr.init(\"rerun_example_pinhole\", spawn=True)\n",
    "rng = np.random.default_rng(12345)\n",
    "\n",
    "image = rng.uniform(0, 255, size=[3, 3, 3])\n",
    "rr.log(\"world/image\", rr.Pinhole(focal_length=3, width=3, height=3))\n",
    "rr.log(\"world/image\", rr.Image(image))"
   ]
  },
  {
   "cell_type": "code",
   "execution_count": 1,
   "metadata": {},
   "outputs": [
    {
     "name": "stdout",
     "output_type": "stream",
     "text": [
      "loading pointodyssey dataset...\n"
     ]
    },
    {
     "data": {
      "text/plain": [
       "dict_keys(['image', 'world_pc_valid', 'cam', 'depth_map'])"
      ]
     },
     "execution_count": 1,
     "metadata": {},
     "output_type": "execute_result"
    }
   ],
   "source": [
    "import numpy as np\n",
    "import rerun as rr\n",
    "from loaders.pointodyssey import PointOdyssey\n",
    "import loaders.utils.geometry as geo\n",
    "\n",
    "dataset = PointOdyssey(dset=\"sample\")\n",
    "\n",
    "# data/pointodyssey/sample/scene_d78_0318_3rd\n",
    "seq_path = \"data/pointodyssey/sample/scene_d78_0318_3rd\"\n",
    "frame_info = dataset.get_frame_info(seq_path, 0)\n",
    "frame_info.keys()"
   ]
  },
  {
   "cell_type": "code",
   "execution_count": 2,
   "metadata": {},
   "outputs": [],
   "source": [
    "from scipy.spatial.transform import Rotation\n",
    "\n",
    "def get_camera_center(extrinsics):\n",
    "    R = extrinsics[:3, :3]\n",
    "    t = extrinsics[:3, 3]\n",
    "    return -R.T @ t  # Convert world-to-camera translation to camera center in world coordinates\n",
    "\n",
    "def decompose_extrinsics(extrinsics):\n",
    "    translation = get_camera_center(extrinsics)\n",
    "    rotation_matrix = extrinsics[:3, :3]\n",
    "    quaternion = Rotation.from_matrix(rotation_matrix).as_quat()\n",
    "    return translation, quaternion  # Pass as NumPy array (not a Rerun object)"
   ]
  },
  {
   "cell_type": "code",
   "execution_count": 27,
   "metadata": {},
   "outputs": [
    {
     "name": "stdout",
     "output_type": "stream",
     "text": [
      "576.0 576.0\n",
      "480.0 270.0\n",
      "540 960\n",
      "translation: (np.float32(2.5996242), np.float32(1.8381889), np.float32(-2.8234172))\n",
      "quaternion: (np.float64(-0.3577987302545975), np.float64(-0.16442011555390143), np.float64(0.916967893776276), np.float64(0.06415587278604913))\n",
      "translation type: <class 'tuple'>\n",
      "quaternion type: <class 'tuple'>\n"
     ]
    }
   ],
   "source": [
    "intrinsics, extrinsics = frame_info[\"cam\"]\n",
    "image = frame_info[\"image\"]\n",
    "\n",
    "fx, fy = intrinsics[0, 0], intrinsics[1, 1]\n",
    "cx, cy = intrinsics[0, 2], intrinsics[1, 2]\n",
    "img_height, img_width = image.shape[:2]\n",
    "\n",
    "translation, quaternion = decompose_extrinsics(extrinsics)\n",
    "translation, quaternion = translation, quaternion\n",
    "translation, quaternion = tuple(translation), tuple(quaternion)\n",
    "\n",
    "print(fx, fy)\n",
    "print(cx, cy)\n",
    "print(img_height, img_width)\n",
    "print(\"translation:\", translation)\n",
    "print(\"quaternion:\", quaternion)\n",
    "print(\"translation type:\", type(translation))\n",
    "print(\"quaternion type:\", type(quaternion))"
   ]
  },
  {
   "cell_type": "code",
   "execution_count": 29,
   "metadata": {},
   "outputs": [
    {
     "name": "stderr",
     "output_type": "stream",
     "text": [
      "[2025-03-09T00:26:26Z INFO  re_sdk::spawn] A process is already listening at this address. Assuming it's a Rerun Viewer. addr=0.0.0.0:9876\n"
     ]
    }
   ],
   "source": [
    "rr.spawn()\n",
    "\n",
    "rr.log(f\"pinhole1\", rr.Pinhole(\n",
    "    focal_length=(fx, fy),\n",
    "    principal_point=(cx, cy),\n",
    "    resolution=(img_width, img_height)\n",
    "))\n",
    "rr.log(f\"pinhole1\", rr.Image(image))\n",
    "\n",
    "rr.log(\"pinhole2\", rr.Transform3D(translation=translation, quaternion=quaternion))\n",
    "rr.log(f\"pinhole2\", rr.Pinhole(\n",
    "    focal_length=(fx, fy),\n",
    "    principal_point=(cx, cy),\n",
    "    resolution=(img_width, img_height)\n",
    "))\n",
    "rr.log(f\"pinhole2\", rr.Image(image))"
   ]
  },
  {
   "cell_type": "code",
   "execution_count": 33,
   "metadata": {},
   "outputs": [
    {
     "name": "stderr",
     "output_type": "stream",
     "text": [
      "[2025-03-09T00:30:44Z INFO  re_sdk::spawn] A process is already listening at this address. Assuming it's a Rerun Viewer. addr=0.0.0.0:9876\n"
     ]
    }
   ],
   "source": [
    "rr.spawn()\n",
    "\n",
    "for i in range(20):\n",
    "    frame_info = dataset.get_frame_info(seq_path, i)\n",
    "    intrinsics, extrinsics = frame_info[\"cam\"]\n",
    "    image = frame_info[\"image\"]\n",
    "    \n",
    "    fx, fy = intrinsics[0, 0], intrinsics[1, 1]\n",
    "    cx, cy = intrinsics[0, 2], intrinsics[1, 2]\n",
    "    img_height, img_width = image.shape[:2]\n",
    "    translation, quaternion = decompose_extrinsics(extrinsics)\n",
    "    # translation, quaternion = tuple(translation), tuple(quaternion)\n",
    "    rr.log(f\"pinhole{i}\", rr.Transform3D(translation=translation, quaternion=quaternion))\n",
    "    rr.log(f\"pinhole{i}\", rr.Pinhole(\n",
    "        focal_length=(fx, fy),\n",
    "        principal_point=(cx, cy),\n",
    "        resolution=(img_width, img_height)\n",
    "    ))\n",
    "    rr.log(f\"pinhole{i}\", rr.Image(image))"
   ]
  },
  {
   "cell_type": "code",
   "execution_count": 5,
   "metadata": {},
   "outputs": [],
   "source": [
    "frame_info = dataset.get_frame_info(seq_path, 0)\n",
    "world_pc_valid = frame_info[\"world_pc_valid\"]\n",
    "cam = frame_info[\"cam\"]\n",
    "world_pc = np.asarray(world_pc_valid[:, :3])\n",
    "image = frame_info[\"image\"]\n",
    "intrinsics, extrinsics = cam\n",
    "fx, fy = intrinsics[0, 0], intrinsics[1, 1]\n",
    "cx, cy = intrinsics[0, 2], intrinsics[1, 2]\n",
    "img_height, img_width = image.shape[:2]\n",
    "\n",
    "translation, quaternion = decompose_extrinsics(extrinsics)"
   ]
  },
  {
   "cell_type": "code",
   "execution_count": 9,
   "metadata": {},
   "outputs": [
    {
     "name": "stderr",
     "output_type": "stream",
     "text": [
      "[2025-03-09T00:51:09Z INFO  re_sdk::spawn] A process is already listening at this address. Assuming it's a Rerun Viewer. addr=0.0.0.0:9876\n",
      "[2025-03-09T00:51:09Z INFO  re_sdk::spawn] A process is already listening at this address. Assuming it's a Rerun Viewer. addr=0.0.0.0:9876\n"
     ]
    }
   ],
   "source": [
    "\n",
    "rr.init(\"my_app\", spawn=True)\n",
    "rr.spawn()\n",
    "rr.log(\"pc\", rr.Points3D(positions=world_pc))\n",
    "rr.log(\"pc\", rr.Transform3D(translation=translation, quaternion=quaternion))\n",
    "rr.log(\"camera\", rr.Pinhole(  # Use the same entity for pinhole and image\n",
    "    focal_length=(fx, fy),\n",
    "    principal_point=(cx, cy),\n",
    "    resolution=(img_width, img_height)\n",
    "))\n",
    "rr.log(\"camera\", rr.Image(image))  # Now properly linked to the Pinhole"
   ]
  },
  {
   "cell_type": "code",
   "execution_count": 3,
   "metadata": {},
   "outputs": [],
   "source": [
    "frame_info = dataset.get_frame_info(seq_path, 0)\n",
    "world_pc_valid = frame_info[\"world_pc_valid\"]\n",
    "cam = frame_info[\"cam\"]\n",
    "world_pc = np.asarray(world_pc_valid[:, :3])\n",
    "camera_pc = geo.world_pc_to_cam_pc(world_pc, cam)\n",
    "image = frame_info[\"image\"]\n",
    "intrinsics, extrinsics = cam\n",
    "fx, fy = intrinsics[0, 0], intrinsics[1, 1]\n",
    "cx, cy = intrinsics[0, 2], intrinsics[1, 2]\n",
    "img_height, img_width = image.shape[:2]\n",
    "\n",
    "translation, quaternion = decompose_extrinsics(extrinsics)"
   ]
  },
  {
   "cell_type": "code",
   "execution_count": 5,
   "metadata": {},
   "outputs": [
    {
     "name": "stderr",
     "output_type": "stream",
     "text": [
      "[2025-03-09T01:29:48Z INFO  re_sdk::spawn] A process is already listening at this address. Assuming it's a Rerun Viewer. addr=0.0.0.0:9876\n",
      "[2025-03-09T01:29:48Z INFO  re_sdk::spawn] A process is already listening at this address. Assuming it's a Rerun Viewer. addr=0.0.0.0:9876\n"
     ]
    }
   ],
   "source": [
    "\n",
    "rr.init(\"my_app\", spawn=True)\n",
    "rr.spawn()\n",
    "rr.log(\"pc\", rr.Points3D(positions=camera_pc))\n",
    "# rr.log(\"camera\", rr.Transform3D(translation=translation, quaternion=quaternion))\n",
    "rr.log(\"camera\", rr.Pinhole(  # Use the same entity for pinhole and image\n",
    "    focal_length=(fx, fy),\n",
    "    principal_point=(cx, cy),\n",
    "    resolution=(img_width, img_height)\n",
    "))\n",
    "rr.log(\"camera\", rr.Image(image))  # Now properly linked to the Pinhole"
   ]
  },
  {
   "cell_type": "code",
   "execution_count": null,
   "metadata": {},
   "outputs": [],
   "source": [
    "frame_info_l = dataset.get_frame_info(seq_path, 0)\n",
    "frame_info_r = dataset.get_frame_info(seq_path, 0)\n",
    "\n",
    "point_maps, motion_maps, frame_infos, ref_idx = dataset.get_point_map_and_motion_map([frame_info_l, frame_info_r], 0)\n",
    "cam = frame_infos[ref_idx][\"cam\"]\n",
    "image = frame_infos[ref_idx][\"image\"]\n",
    "intrinsics, extrinsics = cam\n",
    "fx, fy = intrinsics[0, 0], intrinsics[1, 1]\n",
    "cx, cy = intrinsics[0, 2], intrinsics[1, 2]\n",
    "img_height, img_width = image.shape[:2]\n",
    "\n",
    "translation, quaternion = decompose_extrinsics(extrinsics)"
   ]
  },
  {
   "cell_type": "code",
   "execution_count": null,
   "metadata": {},
   "outputs": [],
   "source": []
  }
 ],
 "metadata": {
  "kernelspec": {
   "display_name": "Python 3 (ipykernel)",
   "language": "python",
   "name": "python3"
  },
  "language_info": {
   "codemirror_mode": {
    "name": "ipython",
    "version": 3
   },
   "file_extension": ".py",
   "mimetype": "text/x-python",
   "name": "python",
   "nbconvert_exporter": "python",
   "pygments_lexer": "ipython3",
   "version": "3.10.2"
  }
 },
 "nbformat": 4,
 "nbformat_minor": 2
}
